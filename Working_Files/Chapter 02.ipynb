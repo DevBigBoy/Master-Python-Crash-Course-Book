{
 "cells": [
  {
   "cell_type": "markdown",
   "id": "f6cacdf2",
   "metadata": {},
   "source": [
    "# Chapter 2"
   ]
  },
  {
   "cell_type": "markdown",
   "id": "40a4b3c9",
   "metadata": {},
   "source": [
    "### Variables and Data Types"
   ]
  },
  {
   "cell_type": "code",
   "execution_count": 7,
   "id": "e3a3f2d6",
   "metadata": {},
   "outputs": [
    {
     "name": "stdout",
     "output_type": "stream",
     "text": [
      "Hello Python World!\n"
     ]
    }
   ],
   "source": [
    "print('Hello Python World!')"
   ]
  },
  {
   "cell_type": "markdown",
   "id": "3c3962af",
   "metadata": {},
   "source": [
    "# Variables"
   ]
  },
  {
   "cell_type": "code",
   "execution_count": 8,
   "id": "b9e422f2",
   "metadata": {},
   "outputs": [
    {
     "name": "stdout",
     "output_type": "stream",
     "text": [
      "Hello Python World!\n",
      "Hello Python Crash Course World!\n"
     ]
    }
   ],
   "source": [
    "message = \"Hello Python World!\"\n",
    "print(message)\n",
    "\n",
    "message = 'Hello Python Crash Course World!'\n",
    "print(message)"
   ]
  },
  {
   "cell_type": "code",
   "execution_count": null,
   "id": "96916296",
   "metadata": {},
   "outputs": [],
   "source": [
    "''' You can change the value of a variable in your program at any time,\n",
    "and Python will always keep track of its current value'''"
   ]
  },
  {
   "cell_type": "markdown",
   "id": "c47097fb",
   "metadata": {},
   "source": [
    "# Naming and Variables"
   ]
  },
  {
   "cell_type": "code",
   "execution_count": null,
   "id": "a2194799",
   "metadata": {},
   "outputs": [],
   "source": [
    "'''\n",
    "    Variable names can contain only letters, numbers, and underscores.\n",
    "They can start with a letter or an underscore, but not with a number.\n",
    "For instance, you can call a variable message_1 but not 1_message\n",
    "'''"
   ]
  },
  {
   "cell_type": "code",
   "execution_count": null,
   "id": "f2777692",
   "metadata": {},
   "outputs": [],
   "source": [
    "'''\n",
    "   Spaces are not allowed in variable names, but underscores can be used\n",
    "to separate words in variable names. For example, greeting_message\n",
    "works, but greeting message will cause errors. \n",
    "'''"
   ]
  },
  {
   "cell_type": "code",
   "execution_count": null,
   "id": "6e9d9c0b",
   "metadata": {},
   "outputs": [],
   "source": [
    "'''\n",
    "    Avoid using Python keywords and function names as variable names;\n",
    "that is, do not use words that Python has reserved for a particular programmatic purpose, \n",
    "such as the word print\n",
    "'''"
   ]
  },
  {
   "cell_type": "code",
   "execution_count": null,
   "id": "7e22f890",
   "metadata": {},
   "outputs": [],
   "source": [
    "'''\n",
    "    Variable names should be short but descriptive. For example, name is\n",
    "better than n, student_name is better than s_n, and name_length is better\n",
    "than length_of_persons_name.\n",
    "'''"
   ]
  },
  {
   "cell_type": "markdown",
   "id": "eb67efbd",
   "metadata": {},
   "source": [
    "# Avoiding Name Errors When Using Variables"
   ]
  },
  {
   "cell_type": "code",
   "execution_count": 9,
   "id": "d7c608e3",
   "metadata": {},
   "outputs": [
    {
     "ename": "NameError",
     "evalue": "name 'mesage' is not defined",
     "output_type": "error",
     "traceback": [
      "\u001b[1;31m---------------------------------------------------------------------------\u001b[0m",
      "\u001b[1;31mNameError\u001b[0m                                 Traceback (most recent call last)",
      "\u001b[1;32m~\\AppData\\Local\\Temp\\ipykernel_15072\\82042849.py\u001b[0m in \u001b[0;36m<module>\u001b[1;34m\u001b[0m\n\u001b[0;32m      1\u001b[0m \u001b[0mmessage\u001b[0m \u001b[1;33m=\u001b[0m \u001b[1;34m\"Hello Python Crash Course reader!\"\u001b[0m\u001b[1;33m\u001b[0m\u001b[1;33m\u001b[0m\u001b[0m\n\u001b[1;32m----> 2\u001b[1;33m \u001b[0mprint\u001b[0m\u001b[1;33m(\u001b[0m\u001b[0mmesage\u001b[0m\u001b[1;33m)\u001b[0m\u001b[1;33m\u001b[0m\u001b[1;33m\u001b[0m\u001b[0m\n\u001b[0m",
      "\u001b[1;31mNameError\u001b[0m: name 'mesage' is not defined"
     ]
    }
   ],
   "source": [
    "message = \"Hello Python Crash Course reader!\"\n",
    "print(mesage)"
   ]
  },
  {
   "cell_type": "markdown",
   "id": "8d5db24b",
   "metadata": {},
   "source": [
    "# Variables Are Labels"
   ]
  },
  {
   "cell_type": "code",
   "execution_count": 10,
   "id": "61004eb4",
   "metadata": {},
   "outputs": [],
   "source": [
    "# You can say that a variable references a certain value"
   ]
  },
  {
   "cell_type": "markdown",
   "id": "bb9c455d",
   "metadata": {},
   "source": [
    "# Strings"
   ]
  },
  {
   "cell_type": "code",
   "execution_count": 11,
   "id": "d4161d19",
   "metadata": {},
   "outputs": [],
   "source": [
    "# A string is a series of characters. Anything inside quotes is considered a string in Python"
   ]
  },
  {
   "cell_type": "code",
   "execution_count": 13,
   "id": "f7a5d983",
   "metadata": {},
   "outputs": [
    {
     "data": {
      "text/plain": [
       "\"One of Python's strenghts is its diverse and supportive community\""
      ]
     },
     "execution_count": 13,
     "metadata": {},
     "output_type": "execute_result"
    }
   ],
   "source": [
    "\"This is String.\"\n",
    "'This is also a String.'\n",
    "'I told my friend, \"Python is my favorite language!\"'\n",
    "\"the language 'Python' is named after monty Python, not the snake.\"\n",
    "\"One of Python's strenghts is its diverse and supportive community\""
   ]
  },
  {
   "cell_type": "markdown",
   "id": "32b414ff",
   "metadata": {},
   "source": [
    "### Changing Case in a String with Methods"
   ]
  },
  {
   "cell_type": "code",
   "execution_count": 15,
   "id": "2a5adf03",
   "metadata": {},
   "outputs": [
    {
     "name": "stdout",
     "output_type": "stream",
     "text": [
      "Ali Gad\n"
     ]
    }
   ],
   "source": [
    "name = 'ali gad'\n",
    "print(name.title())"
   ]
  },
  {
   "cell_type": "code",
   "execution_count": 16,
   "id": "c6e49360",
   "metadata": {},
   "outputs": [
    {
     "name": "stdout",
     "output_type": "stream",
     "text": [
      "AHMED EZZ\n",
      "ahmed ezz\n"
     ]
    }
   ],
   "source": [
    "name = \"Ahmed Ezz\"\n",
    "\n",
    "print(name.upper())\n",
    "print(name.lower())"
   ]
  },
  {
   "cell_type": "markdown",
   "id": "a3447364",
   "metadata": {},
   "source": [
    "### Using Variables in Strings"
   ]
  },
  {
   "cell_type": "code",
   "execution_count": 19,
   "id": "2a41b31b",
   "metadata": {},
   "outputs": [
    {
     "name": "stdout",
     "output_type": "stream",
     "text": [
      "mohamed Elsahzly\n"
     ]
    }
   ],
   "source": [
    "first_name = 'mohamed'\n",
    "last_name = 'Elsahzly'\n",
    "full_name = f\"{first_name} {last_name}\"\n",
    "print(full_name)"
   ]
  },
  {
   "cell_type": "code",
   "execution_count": 20,
   "id": "71573a81",
   "metadata": {},
   "outputs": [
    {
     "name": "stdout",
     "output_type": "stream",
     "text": [
      "Hello, Mohamed Elsahzly!\n"
     ]
    }
   ],
   "source": [
    "print(f'Hello, {full_name.title()}!')"
   ]
  },
  {
   "cell_type": "code",
   "execution_count": null,
   "id": "f9abb5f2",
   "metadata": {},
   "outputs": [],
   "source": [
    "'''\n",
    "    f-strings were fist introduced in python 3.6. if you are using python 3.5 or earlier,\n",
    "    you will need to use the format() Method rather than this f syntax. to use format(), list\n",
    "    the variables you want to use in the string inside the paranthses following format.\n",
    "    Each variable is referred to by a set of braces; the braces will be filled by the values\n",
    "    listed in parantheses in the order provided:\n",
    "'''"
   ]
  },
  {
   "cell_type": "code",
   "execution_count": 23,
   "id": "9c12f247",
   "metadata": {},
   "outputs": [
    {
     "name": "stdout",
     "output_type": "stream",
     "text": [
      "mohamed Elsahzly .\n"
     ]
    }
   ],
   "source": [
    "full_name =\"{} {} .\".format(first_name, last_name)\n",
    "print(full_name)"
   ]
  },
  {
   "cell_type": "markdown",
   "id": "4cfde245",
   "metadata": {},
   "source": [
    "## Adding Whitespace to strings with tabs or newlines"
   ]
  },
  {
   "cell_type": "code",
   "execution_count": 24,
   "id": "eaa91da5",
   "metadata": {},
   "outputs": [],
   "source": [
    "#  You can use whitespace to organize your output so it’s easier for users to read"
   ]
  },
  {
   "cell_type": "code",
   "execution_count": 28,
   "id": "fa0e14a9",
   "metadata": {},
   "outputs": [
    {
     "name": "stdout",
     "output_type": "stream",
     "text": [
      "python\n",
      "\t python\n",
      "------------------------------\n",
      "Languages:\n",
      "Python\n",
      "JavaScript\n",
      "C\n"
     ]
    }
   ],
   "source": [
    "print('python')\n",
    "print('\\t python')\n",
    "print('------------------------------')\n",
    "# to add a newline in a string use \\n\n",
    "print('Languages:\\nPython\\nJavaScript\\nC')"
   ]
  },
  {
   "cell_type": "code",
   "execution_count": 29,
   "id": "56259379",
   "metadata": {},
   "outputs": [
    {
     "name": "stdout",
     "output_type": "stream",
     "text": [
      "Languages:\n",
      "\tPython\n",
      "\tJavaScript\n",
      "\tC\n"
     ]
    }
   ],
   "source": [
    "# you can also combine tabs ans newlines in asingle string\n",
    "print(\"Languages:\\n\\tPython\\n\\tJavaScript\\n\\tC\")"
   ]
  },
  {
   "cell_type": "markdown",
   "id": "717d3780",
   "metadata": {},
   "source": [
    "## Stripping Whitespace"
   ]
  },
  {
   "cell_type": "code",
   "execution_count": 30,
   "id": "1ead1eed",
   "metadata": {},
   "outputs": [],
   "source": [
    "# to Remove the witespace from the string"
   ]
  },
  {
   "cell_type": "code",
   "execution_count": 31,
   "id": "8d84ca0a",
   "metadata": {},
   "outputs": [
    {
     "name": "stdout",
     "output_type": "stream",
     "text": [
      " Python\n",
      "Python  \n",
      "Python\n"
     ]
    }
   ],
   "source": [
    "favorite_language = ' Python  '\n",
    "print(favorite_language.rstrip())\n",
    "print(favorite_language.lstrip())\n",
    "print(favorite_language.strip())"
   ]
  },
  {
   "cell_type": "code",
   "execution_count": null,
   "id": "cc9bff5e",
   "metadata": {},
   "outputs": [],
   "source": [
    "''' In the real world, these stripping functions are used most often to clean up user input \n",
    "before it's Stored in a program'''"
   ]
  },
  {
   "cell_type": "markdown",
   "id": "959fe6dc",
   "metadata": {},
   "source": [
    "## Avoiding Syntax Errors with Strings"
   ]
  },
  {
   "cell_type": "code",
   "execution_count": 32,
   "id": "cc92b2f6",
   "metadata": {},
   "outputs": [
    {
     "ename": "SyntaxError",
     "evalue": "invalid syntax (1235806715.py, line 1)",
     "output_type": "error",
     "traceback": [
      "\u001b[1;36m  File \u001b[1;32m\"C:\\Users\\20127\\AppData\\Local\\Temp\\ipykernel_15072\\1235806715.py\"\u001b[1;36m, line \u001b[1;32m1\u001b[0m\n\u001b[1;33m    message = 'One of python's strengths is its diverse coummunity'\u001b[0m\n\u001b[1;37m                             ^\u001b[0m\n\u001b[1;31mSyntaxError\u001b[0m\u001b[1;31m:\u001b[0m invalid syntax\n"
     ]
    }
   ],
   "source": [
    "message = 'One of python's strengths is its diverse coummunity'\n",
    "print(message)"
   ]
  },
  {
   "cell_type": "markdown",
   "id": "a78d0f16",
   "metadata": {},
   "source": [
    "# Numbers"
   ]
  },
  {
   "cell_type": "code",
   "execution_count": 33,
   "id": "89098e42",
   "metadata": {},
   "outputs": [],
   "source": [
    "# python treat numbers in several ways"
   ]
  },
  {
   "cell_type": "markdown",
   "id": "4fd281f2",
   "metadata": {},
   "source": [
    "### Integers"
   ]
  },
  {
   "cell_type": "code",
   "execution_count": 34,
   "id": "fad4e565",
   "metadata": {},
   "outputs": [],
   "source": [
    "# you can Add + subtract - multiply * divide / integers in python"
   ]
  },
  {
   "cell_type": "code",
   "execution_count": 35,
   "id": "c839836b",
   "metadata": {},
   "outputs": [
    {
     "data": {
      "text/plain": [
       "6"
      ]
     },
     "execution_count": 35,
     "metadata": {},
     "output_type": "execute_result"
    }
   ],
   "source": [
    "3 +3"
   ]
  },
  {
   "cell_type": "code",
   "execution_count": 36,
   "id": "9b629717",
   "metadata": {},
   "outputs": [
    {
     "data": {
      "text/plain": [
       "0"
      ]
     },
     "execution_count": 36,
     "metadata": {},
     "output_type": "execute_result"
    }
   ],
   "source": [
    "3-3"
   ]
  },
  {
   "cell_type": "code",
   "execution_count": 37,
   "id": "58e63e12",
   "metadata": {},
   "outputs": [
    {
     "data": {
      "text/plain": [
       "6"
      ]
     },
     "execution_count": 37,
     "metadata": {},
     "output_type": "execute_result"
    }
   ],
   "source": [
    "2*3"
   ]
  },
  {
   "cell_type": "code",
   "execution_count": 38,
   "id": "0af1388f",
   "metadata": {},
   "outputs": [
    {
     "data": {
      "text/plain": [
       "1.5"
      ]
     },
     "execution_count": 38,
     "metadata": {},
     "output_type": "execute_result"
    }
   ],
   "source": [
    "3/2"
   ]
  },
  {
   "cell_type": "code",
   "execution_count": 39,
   "id": "be5d3041",
   "metadata": {},
   "outputs": [
    {
     "data": {
      "text/plain": [
       "9"
      ]
     },
     "execution_count": 39,
     "metadata": {},
     "output_type": "execute_result"
    }
   ],
   "source": [
    "3 ** 2"
   ]
  },
  {
   "cell_type": "code",
   "execution_count": 40,
   "id": "fdbe8eda",
   "metadata": {},
   "outputs": [],
   "source": [
    "# python supports the order of operations too\n",
    "# you can use parentheses to modify the order or operations so python can evalute your expressions in the order you specify.\n"
   ]
  },
  {
   "cell_type": "code",
   "execution_count": 41,
   "id": "583e6d77",
   "metadata": {},
   "outputs": [
    {
     "data": {
      "text/plain": [
       "14"
      ]
     },
     "execution_count": 41,
     "metadata": {},
     "output_type": "execute_result"
    }
   ],
   "source": [
    "2 +3*4"
   ]
  },
  {
   "cell_type": "code",
   "execution_count": 42,
   "id": "e8be225f",
   "metadata": {},
   "outputs": [
    {
     "data": {
      "text/plain": [
       "20"
      ]
     },
     "execution_count": 42,
     "metadata": {},
     "output_type": "execute_result"
    }
   ],
   "source": [
    "(2+3)*4"
   ]
  },
  {
   "cell_type": "markdown",
   "id": "38de040d",
   "metadata": {},
   "source": [
    "### Floats"
   ]
  },
  {
   "cell_type": "code",
   "execution_count": 44,
   "id": "b21066c2",
   "metadata": {},
   "outputs": [],
   "source": [
    "# python calls any number with a decimal a float"
   ]
  },
  {
   "cell_type": "code",
   "execution_count": 45,
   "id": "de908b90",
   "metadata": {},
   "outputs": [
    {
     "data": {
      "text/plain": [
       "0.2"
      ]
     },
     "execution_count": 45,
     "metadata": {},
     "output_type": "execute_result"
    }
   ],
   "source": [
    "0.1 + 0.1"
   ]
  },
  {
   "cell_type": "code",
   "execution_count": 46,
   "id": "7fbd4a82",
   "metadata": {},
   "outputs": [
    {
     "data": {
      "text/plain": [
       "0.4"
      ]
     },
     "execution_count": 46,
     "metadata": {},
     "output_type": "execute_result"
    }
   ],
   "source": [
    "0.2 + 0.2"
   ]
  },
  {
   "cell_type": "code",
   "execution_count": 47,
   "id": "e314a1ab",
   "metadata": {},
   "outputs": [
    {
     "data": {
      "text/plain": [
       "0.2"
      ]
     },
     "execution_count": 47,
     "metadata": {},
     "output_type": "execute_result"
    }
   ],
   "source": [
    "2 * 0.1"
   ]
  },
  {
   "cell_type": "code",
   "execution_count": 48,
   "id": "16036d14",
   "metadata": {},
   "outputs": [
    {
     "data": {
      "text/plain": [
       "0.30000000000000004"
      ]
     },
     "execution_count": 48,
     "metadata": {},
     "output_type": "execute_result"
    }
   ],
   "source": [
    "0.2 + 0.1"
   ]
  },
  {
   "cell_type": "markdown",
   "id": "1c836804",
   "metadata": {},
   "source": [
    "## Intergers and Floats"
   ]
  },
  {
   "cell_type": "code",
   "execution_count": 52,
   "id": "87a346de",
   "metadata": {},
   "outputs": [
    {
     "name": "stdout",
     "output_type": "stream",
     "text": [
      "2.0\n"
     ]
    }
   ],
   "source": [
    "# \n",
    "#     When you divide any two numbers, even if they are integers that result in a\n",
    "# whole number, you’ll always get a float\n",
    "\n",
    "print(4/2)"
   ]
  },
  {
   "cell_type": "code",
   "execution_count": 54,
   "id": "99a7ac10",
   "metadata": {},
   "outputs": [
    {
     "name": "stdout",
     "output_type": "stream",
     "text": [
      "3.0\n",
      "7.0\n",
      "9.0\n"
     ]
    }
   ],
   "source": [
    "# If you mix an integer and a float in any other operation, you’ll get a float as well\n",
    "print(1 + 2.0)\n",
    "print(2 * 3.5)\n",
    "print(3.0 ** 2)"
   ]
  },
  {
   "cell_type": "code",
   "execution_count": null,
   "id": "dba7a0d2",
   "metadata": {},
   "outputs": [],
   "source": [
    "# Python defaults to a float in any operation that uses a float, even if the output is a whole number"
   ]
  },
  {
   "cell_type": "markdown",
   "id": "f1d9ad4b",
   "metadata": {},
   "source": [
    "### Underscores in Numers"
   ]
  },
  {
   "cell_type": "code",
   "execution_count": null,
   "id": "745b4a26",
   "metadata": {},
   "outputs": [],
   "source": [
    "# 0. When you are writting long numbers, you can group digits using underscores to make\n",
    "# large number more readable.\n",
    "\n",
    "# 1. when you print a number that was defined using underscores, python prints only the digits\n",
    "# 2. python ignores the underscores when storing these kinds if values."
   ]
  },
  {
   "cell_type": "code",
   "execution_count": null,
   "id": "391ca5d3",
   "metadata": {},
   "outputs": [],
   "source": []
  },
  {
   "cell_type": "code",
   "execution_count": 55,
   "id": "849a7619",
   "metadata": {},
   "outputs": [],
   "source": [
    "universe_age = 14_000_000_000"
   ]
  },
  {
   "cell_type": "code",
   "execution_count": 56,
   "id": "f30e9d12",
   "metadata": {},
   "outputs": [
    {
     "name": "stdout",
     "output_type": "stream",
     "text": [
      "14000000000\n"
     ]
    }
   ],
   "source": [
    "print(universe_age)"
   ]
  },
  {
   "cell_type": "markdown",
   "id": "7284d071",
   "metadata": {},
   "source": [
    "### Multiple Assignment"
   ]
  },
  {
   "cell_type": "code",
   "execution_count": 57,
   "id": "f33bfaeb",
   "metadata": {},
   "outputs": [],
   "source": [
    "x, c, v =  1, 2, 3"
   ]
  },
  {
   "cell_type": "code",
   "execution_count": 58,
   "id": "d3381816",
   "metadata": {},
   "outputs": [
    {
     "data": {
      "text/plain": [
       "1"
      ]
     },
     "execution_count": 58,
     "metadata": {},
     "output_type": "execute_result"
    }
   ],
   "source": [
    "x"
   ]
  },
  {
   "cell_type": "code",
   "execution_count": 59,
   "id": "c4147f77",
   "metadata": {},
   "outputs": [
    {
     "data": {
      "text/plain": [
       "2"
      ]
     },
     "execution_count": 59,
     "metadata": {},
     "output_type": "execute_result"
    }
   ],
   "source": [
    "c"
   ]
  },
  {
   "cell_type": "code",
   "execution_count": 60,
   "id": "95838fec",
   "metadata": {},
   "outputs": [
    {
     "data": {
      "text/plain": [
       "3"
      ]
     },
     "execution_count": 60,
     "metadata": {},
     "output_type": "execute_result"
    }
   ],
   "source": [
    "v"
   ]
  },
  {
   "cell_type": "markdown",
   "id": "9d1c501a",
   "metadata": {},
   "source": [
    "### Constants"
   ]
  },
  {
   "cell_type": "code",
   "execution_count": 61,
   "id": "c12ecd94",
   "metadata": {},
   "outputs": [],
   "source": [
    "# A constant is like a variable whose value stays the same throughout the life\n",
    "# of a program. Python doesn’t have built-in constant types, \n",
    "# but Python programmers use all capital letters to indicate a variable should be treated as a\n",
    "# constant and never be changed"
   ]
  },
  {
   "cell_type": "code",
   "execution_count": 62,
   "id": "03c41b95",
   "metadata": {},
   "outputs": [],
   "source": [
    "MAX_SPEED = 500"
   ]
  },
  {
   "cell_type": "markdown",
   "id": "46d2285f",
   "metadata": {},
   "source": [
    "## Comments"
   ]
  },
  {
   "cell_type": "code",
   "execution_count": 63,
   "id": "97b5f8aa",
   "metadata": {},
   "outputs": [],
   "source": [
    "# Comments are an extremely useful feature in most programming languages. \n",
    "# Everything you’ve written in your programs so far is Python code.\n",
    "# As your programs become longer and more complicated, you should add\n",
    "# notes within your programs that describe your overall approach to the\n",
    "# problem you’re solving. A comment allows you to write notes in English\n",
    "# within your programs."
   ]
  },
  {
   "cell_type": "code",
   "execution_count": null,
   "id": "add9ef8a",
   "metadata": {},
   "outputs": [],
   "source": [
    "# Write Comment here"
   ]
  },
  {
   "cell_type": "markdown",
   "id": "c1c9b224",
   "metadata": {},
   "source": [
    "## The Zen of Python"
   ]
  },
  {
   "cell_type": "code",
   "execution_count": null,
   "id": "9138adad",
   "metadata": {},
   "outputs": [],
   "source": [
    "# Experienced Python programmers will encourage you to avoid complexity\n",
    "# and aim for simplicity whenever possible. \n",
    "# The Python community’s philosophy is contained in “The Zen of Python” by Tim Peters. \n",
    "# You can access thisbrief set of principles for writing good Python code by entering import this\n",
    "# into your interpreter. I won’t reproduce the entire “Zen of Python” here, but\n",
    "# I’ll share a few lines to help you understand why they should be important\n",
    "# to you as a beginning Python programmer."
   ]
  }
 ],
 "metadata": {
  "kernelspec": {
   "display_name": "Python 3 (ipykernel)",
   "language": "python",
   "name": "python3"
  },
  "language_info": {
   "codemirror_mode": {
    "name": "ipython",
    "version": 3
   },
   "file_extension": ".py",
   "mimetype": "text/x-python",
   "name": "python",
   "nbconvert_exporter": "python",
   "pygments_lexer": "ipython3",
   "version": "3.9.16"
  }
 },
 "nbformat": 4,
 "nbformat_minor": 5
}
