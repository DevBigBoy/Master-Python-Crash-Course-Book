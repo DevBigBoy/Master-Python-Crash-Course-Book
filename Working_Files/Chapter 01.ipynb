{
 "cells": [
  {
   "cell_type": "markdown",
   "id": "78ae3abe",
   "metadata": {},
   "source": [
    "# Setting Up Your Progamming Evironment"
   ]
  },
  {
   "cell_type": "code",
   "execution_count": null,
   "id": "42076c16",
   "metadata": {},
   "outputs": [],
   "source": [
    "# Make Sure Python is set up correctly on your System"
   ]
  },
  {
   "cell_type": "code",
   "execution_count": null,
   "id": "1666dc69",
   "metadata": {},
   "outputs": [],
   "source": [
    "# Python Versions"
   ]
  },
  {
   "cell_type": "code",
   "execution_count": null,
   "id": "6b8de7da",
   "metadata": {},
   "outputs": [],
   "source": [
    "# Running Snippets of Python Code"
   ]
  },
  {
   "cell_type": "code",
   "execution_count": null,
   "id": "8dd7bf81",
   "metadata": {},
   "outputs": [],
   "source": [
    "# there's a long-held tradition in the progeamming world that printing a hello World! message\n",
    "# to the screen as your first program in a new language will bring you a good luck."
   ]
  },
  {
   "cell_type": "code",
   "execution_count": null,
   "id": "e4b484e5",
   "metadata": {},
   "outputs": [],
   "source": [
    "# About The Sublime Text Editor"
   ]
  },
  {
   "cell_type": "code",
   "execution_count": null,
   "id": "4d4466f4",
   "metadata": {},
   "outputs": [],
   "source": [
    "# Python On Different Operating systems\n",
    "# Python is across-platform programming language will means it runs on all the major operating systems"
   ]
  },
  {
   "cell_type": "code",
   "execution_count": 1,
   "id": "0ceb8b02",
   "metadata": {},
   "outputs": [
    {
     "name": "stdout",
     "output_type": "stream",
     "text": [
      "hello python interpreter!\n"
     ]
    }
   ],
   "source": [
    "print('hello python interpreter!')"
   ]
  },
  {
   "cell_type": "code",
   "execution_count": null,
   "id": "f1a68f3e",
   "metadata": {},
   "outputs": [],
   "source": [
    "# Troubleshooting"
   ]
  },
  {
   "cell_type": "code",
   "execution_count": null,
   "id": "9475f91d",
   "metadata": {},
   "outputs": [],
   "source": [
    "\"\"\"\n",
    "    Step away from your computer, take a short break, and then try again.\n",
    "\"\"\""
   ]
  },
  {
   "cell_type": "code",
   "execution_count": null,
   "id": "405954ac",
   "metadata": {},
   "outputs": [],
   "source": [
    "#  Running Python Programs from a terminal"
   ]
  }
 ],
 "metadata": {
  "kernelspec": {
   "display_name": "Python 3 (ipykernel)",
   "language": "python",
   "name": "python3"
  },
  "language_info": {
   "codemirror_mode": {
    "name": "ipython",
    "version": 3
   },
   "file_extension": ".py",
   "mimetype": "text/x-python",
   "name": "python",
   "nbconvert_exporter": "python",
   "pygments_lexer": "ipython3",
   "version": "3.9.16"
  }
 },
 "nbformat": 4,
 "nbformat_minor": 5
}
